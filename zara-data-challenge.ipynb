{
 "cells": [
  {
   "cell_type": "code",
   "execution_count": 36,
   "metadata": {
    "collapsed": true
   },
   "outputs": [],
   "source": [
    "import pandas as pd\n",
    "\n",
    "path = \"/Users/ichida/dev/datasets/zara_challenge/\" \\\n",
    "       \"zara_data_go_2019_all_dataset\"\n",
    "\n",
    "sales_stock_df = pd.read_csv(f\"{path}/sales_stock.csv\")\n",
    "products_df = pd.read_csv(f\"{path}/products.csv\")\n",
    "positions_df = pd.read_csv(f\"{path}/positions.csv\")\n",
    "blocks_df = pd.read_csv(f\"{path}/product_blocks.csv\")"
   ]
  },
  {
   "cell_type": "markdown",
   "metadata": {
    "pycharm": {
     "name": "#%% md\n"
    }
   },
   "source": [
    "### Retrieve the following features:\n",
    "- Quantity of items in each block"
   ]
  },
  {
   "cell_type": "code",
   "execution_count": 37,
   "outputs": [],
   "source": [
    "grouped_df = blocks_df.groupby('block_id').count()['product_id'].reset_index()\n",
    "grouped_df.columns = ['block_id', 'qtty_items']\n",
    "features_df = pd.merge(blocks_df, grouped_df, on='block_id', how='inner')\n",
    "features_df = pd.merge(products_df, features_df, on='product_id', how='left')"
   ],
   "metadata": {
    "collapsed": false,
    "pycharm": {
     "name": "#%%\n"
    }
   }
  },
  {
   "cell_type": "code",
   "execution_count": 38,
   "outputs": [
    {
     "name": "stderr",
     "output_type": "stream",
     "text": [
      "C:\\Users\\ichida\\anaconda3\\envs\\ml\\lib\\site-packages\\pandas\\core\\reshape\\merge.py:618: UserWarning: merging between different levels can give an unintended result (1 levels on the left, 2 on the right)\n",
      "  warnings.warn(msg, UserWarning)\n",
      "C:\\Users\\ichida\\anaconda3\\envs\\ml\\lib\\site-packages\\pandas\\core\\generic.py:3936: PerformanceWarning: dropping on a non-lexsorted multi-index without a level parameter may impact performance.\n",
      "  obj = obj._drop_axis(labels, axis, level=level, errors=errors)\n"
     ]
    }
   ],
   "source": [
    "sales_stock_sum = sales_stock_df.groupby(['date_number', 'product_id']).agg({'sales':'sum', 'stock':'sum'}).reset_index()\n",
    "sales_stock_sum_63 = sales_stock_sum[sales_stock_sum['date_number'] <= 63]\n",
    "count_categories_per_product = positions_df.groupby(['date_number', 'product_id']).count()['position'].reset_index()\n",
    "position_features = positions_df.groupby(['date_number', 'product_id']).agg({'position':['max', 'mean', 'min']}).reset_index()\n",
    "# Including feature columns\n",
    "sales_stock_features = pd.merge(sales_stock_sum_63, features_df, on='product_id')\n",
    "sales_stock_features = pd.merge(sales_stock_features, count_categories_per_product, on=['date_number', 'product_id'])\n",
    "sales_stock_features = pd.merge(sales_stock_features, position_features, on=['date_number', 'product_id'])"
   ],
   "metadata": {
    "collapsed": false,
    "pycharm": {
     "name": "#%%\n"
    }
   }
  },
  {
   "cell_type": "code",
   "execution_count": 39,
   "outputs": [],
   "source": [
    "# Calculating the daily revenue\n",
    "sales_stock_features.loc[:, 'revenue'] = sales_stock_features['sales'] * sales_stock_features['price']\n",
    "# Get total revenue per block\n",
    "blocks_revenue = sales_stock_features.groupby(['block_id']).sum()['revenue'].reset_index()\n",
    "blocks_revenue.columns = ['block_id', 'total_revenue']\n",
    "sales_stock_features = pd.merge(sales_stock_features, blocks_revenue, on='block_id')"
   ],
   "metadata": {
    "collapsed": false,
    "pycharm": {
     "name": "#%%\n"
    }
   }
  },
  {
   "cell_type": "code",
   "execution_count": 40,
   "outputs": [],
   "source": [
    "import math\n",
    "blocks_revenue = pd.merge(blocks_revenue, grouped_df, on='block_id')\n",
    "blocks_revenue = blocks_revenue.sort_values(ascending=False, by='total_revenue').reset_index()\n",
    "df2=pd.DataFrame()\n",
    "for k in range(1,11):\n",
    "    df2=pd.concat([df2, blocks_revenue[blocks_revenue['qtty_items']==k].head(math.floor(50/k))])\n",
    "\n",
    "df2=df2.sort_values(by='total_revenue', ascending=False).reset_index().drop('index', axis=1)\n",
    "most_revenues=df2.copy()"
   ],
   "metadata": {
    "collapsed": false,
    "pycharm": {
     "name": "#%%\n"
    }
   }
  },
  {
   "cell_type": "code",
   "execution_count": 42,
   "outputs": [
    {
     "name": "stdout",
     "output_type": "stream",
     "text": [
      "Number of blocks checked: 70 out of 144\n",
      "Number of blocks chosen: 11\n",
      "Chosen blocks list: [2128, 2037, 9, 2503, 2306, 2481, 1256, 921, 753, 1080, 897]\n",
      "Checked total revenue: 1843886.85\n",
      "Checked number of items: 50\n",
      "Execution time: 13.74 sec.\n"
     ]
    }
   ],
   "source": [
    "from knapsack import knapsack\n",
    "import time\n",
    "\n",
    "weights = tuple(df2['qtty_items'][0:40])\n",
    "values = tuple(df2['total_revenue'][0:40])\n",
    "capacity = 50\n",
    "t0=time.time()\n",
    "sol=knapsack(weights, values).solve(capacity)\n",
    "\n",
    "checked_revenue=0\n",
    "items=0\n",
    "indices=sol[1]\n",
    "chosen_blocks=[]\n",
    "for x in indices:\n",
    "    chosen_blocks.append(df2.loc[x,'block_id'].item())\n",
    "    checked_revenue+=df2.loc[x,'total_revenue'].item()\n",
    "    items+=df2.loc[x,'qtty_items'].item()\n",
    "print('Number of blocks checked: {} out of {}'.format(70, len(df2)))\n",
    "print('Number of blocks chosen:', len(chosen_blocks))\n",
    "print('Chosen blocks list:', chosen_blocks)\n",
    "print('Checked total revenue:', round(checked_revenue, 3))\n",
    "print('Checked number of items:', items)\n",
    "print('Execution time: {} sec.'.format(round(time.time()-t0, 2)))\n"
   ],
   "metadata": {
    "collapsed": false,
    "pycharm": {
     "name": "#%%\n"
    }
   }
  },
  {
   "cell_type": "code",
   "execution_count": 35,
   "outputs": [],
   "source": [
    "df3 = df2[df2['block_id'].isin(chosen_blocks)]\n",
    "\n"
   ],
   "metadata": {
    "collapsed": false,
    "pycharm": {
     "name": "#%%\n"
    }
   }
  },
  {
   "cell_type": "code",
   "execution_count": null,
   "outputs": [],
   "source": [
    "\n"
   ],
   "metadata": {
    "collapsed": false,
    "pycharm": {
     "name": "#%%\n"
    }
   }
  }
 ],
 "metadata": {
  "kernelspec": {
   "name": "pycharm-1b229a1d",
   "language": "python",
   "display_name": "PyCharm (zara-data-challenge)"
  },
  "language_info": {
   "codemirror_mode": {
    "name": "ipython",
    "version": 2
   },
   "file_extension": ".py",
   "mimetype": "text/x-python",
   "name": "python",
   "nbconvert_exporter": "python",
   "pygments_lexer": "ipython2",
   "version": "2.7.6"
  }
 },
 "nbformat": 4,
 "nbformat_minor": 0
}