{
 "cells": [
  {
   "cell_type": "code",
   "execution_count": 1,
   "metadata": {
    "collapsed": true
   },
   "outputs": [],
   "source": [
    "import pandas as pd\n",
    "path = \"/Users/ichida/dev/datasets/zara_challenge/\" \\\n",
    "       \"zara_data_go_2019_all_dataset\"\n",
    "\n",
    "sales_stock_df = pd.read_csv(f\"{path}/sales_stock.csv\")\n",
    "products_df = pd.read_csv(f\"{path}/products.csv\")\n",
    "positions_df = pd.read_csv(f\"{path}/positions.csv\")"
   ]
  },
  {
   "cell_type": "code",
   "execution_count": 2,
   "outputs": [],
   "source": [
    "position_features = positions_df.groupby(['date_number', 'product_id']).agg({'position':['max', 'mean', 'min']}).reset_index()\n",
    "position_features.columns = ['date_number', 'product_id', 'max_position', 'mean_position', 'position']"
   ],
   "metadata": {
    "collapsed": false,
    "pycharm": {
     "name": "#%%\n"
    }
   }
  },
  {
   "cell_type": "code",
   "execution_count": 3,
   "outputs": [],
   "source": [
    "product_sales_stock = pd.merge(products_df, sales_stock_df, on='product_id')\n",
    "groupby_columns = ['product_id', 'family_id', 'subfamily_id', 'price', 'date_number', 'color_id', 'size_id']\n",
    "product_sales_stock = product_sales_stock.groupby(groupby_columns).agg({'sales':'sum', 'stock':'sum'}).reset_index()"
   ],
   "metadata": {
    "collapsed": false,
    "pycharm": {
     "name": "#%%\n"
    }
   }
  },
  {
   "cell_type": "code",
   "execution_count": 4,
   "outputs": [
    {
     "data": {
      "text/plain": "Index(['product_id', 'family_id', 'subfamily_id', 'price', 'date_number',\n       'color_id', 'size_id', 'sales', 'stock'],\n      dtype='object')"
     },
     "execution_count": 4,
     "metadata": {},
     "output_type": "execute_result"
    }
   ],
   "source": [
    "product_sales_stock.columns"
   ],
   "metadata": {
    "collapsed": false,
    "pycharm": {
     "name": "#%%\n"
    }
   }
  },
  {
   "cell_type": "code",
   "execution_count": 31,
   "outputs": [
    {
     "data": {
      "text/plain": "family_id        category\nsubfamily_id     category\nprice             float64\ndate_number         int64\ncolor_id         category\nsize_id          category\nsales               int64\nstock               int64\nmax_position        int64\nmean_position     float64\nposition            int64\ndtype: object"
     },
     "execution_count": 31,
     "metadata": {},
     "output_type": "execute_result"
    }
   ],
   "source": [
    "all_features = pd.merge(product_sales_stock, position_features, on=['date_number', 'product_id'])\n",
    "all_features.loc[:, 'product_id'] = all_features.loc[:, 'product_id'].astype('category')\n",
    "all_features.loc[:, 'family_id'] = all_features.loc[:, 'family_id'].astype('category')\n",
    "all_features.loc[:, 'subfamily_id'] = all_features.loc[:, 'subfamily_id'].astype('category')\n",
    "all_features.loc[:, 'size_id'] = all_features.loc[:, 'size_id'].astype('category')\n",
    "all_features.loc[:, 'color_id'] = all_features.loc[:, 'color_id'].astype('category')\n",
    "all_features = all_features.drop('product_id', axis=1)\n",
    "all_features.dtypes"
   ],
   "metadata": {
    "collapsed": false,
    "pycharm": {
     "name": "#%%\n"
    }
   }
  },
  {
   "cell_type": "code",
   "execution_count": 32,
   "outputs": [],
   "source": [
    "test_values = all_features[all_features['date_number'] > 85]\n",
    "val_values = all_features[(all_features['date_number'] > 79)&(all_features['date_number'] <= 85)]\n",
    "train_features = all_features[all_features['date_number'] <=79]"
   ],
   "metadata": {
    "collapsed": false,
    "pycharm": {
     "name": "#%%\n"
    }
   }
  },
  {
   "cell_type": "code",
   "execution_count": 37,
   "outputs": [],
   "source": [
    "from sklearn.pipeline import Pipeline, FeatureUnion\n",
    "from sklearn.base import BaseEstimator, TransformerMixin\n",
    "from sklearn.preprocessing import OneHotEncoder\n",
    "import numpy as np\n",
    "\n",
    "class TypeSelector(BaseEstimator, TransformerMixin):\n",
    "    def __init__(self, dtype):\n",
    "        self.dtype = dtype\n",
    "    def fit(self, X, y=None):\n",
    "        return self\n",
    "    def transform(self, X):\n",
    "        assert isinstance(X, pd.DataFrame)\n",
    "        return X.select_dtypes(include=[self.dtype])\n",
    "\n",
    "transformer = Pipeline([\n",
    "    ('features', FeatureUnion(n_jobs=1, transformer_list=[        \n",
    "        ('numericals', Pipeline([\n",
    "            ('selector', TypeSelector(np.number))\n",
    "        ])),  # numericals close\n",
    "        \n",
    "        # Part 2\n",
    "        ('categoricals', Pipeline([\n",
    "            ('selector', TypeSelector('category'))\n",
    "            ('encoder', OneHotEncoder(handle_unknown='ignore')),\n",
    "        ]))  # categoricals close\n",
    "    ])),  # features close\n",
    "])  # pipeline close\n",
    "\n"
   ],
   "metadata": {
    "collapsed": false,
    "pycharm": {
     "name": "#%%\n"
    }
   }
  },
  {
   "cell_type": "code",
   "execution_count": null,
   "outputs": [],
   "source": [
    "\n"
   ],
   "metadata": {
    "collapsed": false,
    "pycharm": {
     "name": "#%%\n"
    }
   }
  }
 ],
 "metadata": {
  "kernelspec": {
   "name": "pycharm-1b229a1d",
   "language": "python",
   "display_name": "PyCharm (zara-data-challenge)"
  },
  "language_info": {
   "codemirror_mode": {
    "name": "ipython",
    "version": 2
   },
   "file_extension": ".py",
   "mimetype": "text/x-python",
   "name": "python",
   "nbconvert_exporter": "python",
   "pygments_lexer": "ipython2",
   "version": "2.7.6"
  }
 },
 "nbformat": 4,
 "nbformat_minor": 0
}