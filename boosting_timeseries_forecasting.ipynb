{
 "cells": [
  {
   "cell_type": "code",
   "execution_count": 2,
   "metadata": {
    "collapsed": true,
    "pycharm": {
     "is_executing": false
    }
   },
   "outputs": [],
   "source": [
    "import pandas as pd\n",
    "path = \"/home/ichida/dev_env/ml/data/zara_challenge/zara_data_go_2019_all_dataset\"\n",
    "\n",
    "sales_stock_df = pd.read_csv(f\"{path}/sales_stock.csv\")\n",
    "products_df = pd.read_csv(f\"{path}/products.csv\")\n",
    "positions_df = pd.read_csv(f\"{path}/positions.csv\")"
   ]
  },
  {
   "cell_type": "code",
   "execution_count": 3,
   "outputs": [],
   "source": [
    "position_features = positions_df.groupby(['date_number', 'product_id']).agg({'position':['max', 'mean', 'min']}).reset_index()\n",
    "position_features.columns = ['date_number', 'product_id', 'max_position', 'mean_position', 'position']"
   ],
   "metadata": {
    "collapsed": false,
    "pycharm": {
     "name": "#%%\n",
     "is_executing": false
    }
   }
  },
  {
   "cell_type": "code",
   "execution_count": 4,
   "outputs": [],
   "source": [
    "product_sales_stock = pd.merge(products_df, sales_stock_df, on='product_id')\n",
    "groupby_columns = ['product_id', 'family_id', 'subfamily_id', 'price', 'date_number', 'color_id', 'size_id']\n",
    "product_sales_stock = product_sales_stock.groupby(groupby_columns).agg({'sales':'sum', 'stock':'sum'}).reset_index()"
   ],
   "metadata": {
    "collapsed": false,
    "pycharm": {
     "name": "#%%\n",
     "is_executing": false
    }
   }
  },
  {
   "cell_type": "code",
   "execution_count": 5,
   "outputs": [
    {
     "data": {
      "text/plain": "Index(['product_id', 'family_id', 'subfamily_id', 'price', 'date_number',\n       'color_id', 'size_id', 'sales', 'stock'],\n      dtype='object')"
     },
     "metadata": {},
     "output_type": "execute_result",
     "execution_count": 5
    }
   ],
   "source": [
    "product_sales_stock.columns"
   ],
   "metadata": {
    "collapsed": false,
    "pycharm": {
     "name": "#%%\n",
     "is_executing": false
    }
   }
  },
  {
   "cell_type": "code",
   "execution_count": 6,
   "outputs": [
    {
     "data": {
      "text/plain": "family_id        category\nsubfamily_id     category\nprice             float64\ndate_number         int64\ncolor_id         category\nsize_id          category\nsales               int64\nstock               int64\nmax_position        int64\nmean_position     float64\nposition            int64\ndtype: object"
     },
     "metadata": {},
     "output_type": "execute_result",
     "execution_count": 6
    }
   ],
   "source": [
    "all_features = pd.merge(product_sales_stock, position_features, on=['date_number', 'product_id'])\n",
    "all_features.loc[:, 'product_id'] = all_features.loc[:, 'product_id'].astype('category')\n",
    "all_features.loc[:, 'family_id'] = all_features.loc[:, 'family_id'].astype('category')\n",
    "all_features.loc[:, 'subfamily_id'] = all_features.loc[:, 'subfamily_id'].astype('category')\n",
    "all_features.loc[:, 'size_id'] = all_features.loc[:, 'size_id'].astype('category')\n",
    "all_features.loc[:, 'color_id'] = all_features.loc[:, 'color_id'].astype('category')\n",
    "all_features = all_features.drop('product_id', axis=1)\n",
    "all_features.dtypes"
   ],
   "metadata": {
    "collapsed": false,
    "pycharm": {
     "name": "#%%\n",
     "is_executing": false
    }
   }
  },
  {
   "cell_type": "code",
   "execution_count": 7,
   "outputs": [],
   "source": [
    "test_values = all_features[all_features['date_number'] > 85]\n",
    "val_values = all_features[(all_features['date_number'] > 79)&(all_features['date_number'] <= 85)]\n",
    "train_features = all_features[all_features['date_number'] <=79]"
   ],
   "metadata": {
    "collapsed": false,
    "pycharm": {
     "name": "#%%\n",
     "is_executing": false
    }
   }
  },
  {
   "cell_type": "code",
   "execution_count": 8,
   "outputs": [],
   "source": [
    "from sklearn.pipeline import Pipeline, FeatureUnion\n",
    "from sklearn.base import BaseEstimator, TransformerMixin\n",
    "from sklearn.preprocessing import OneHotEncoder\n",
    "import numpy as np\n",
    "import xgboost as xgb\n",
    "\n",
    "class TypeSelector(BaseEstimator, TransformerMixin):\n",
    "    def __init__(self, dtype):\n",
    "        self.dtype = dtype\n",
    "    def fit(self, X, y=None):\n",
    "        return self\n",
    "    def transform(self, X):\n",
    "        assert isinstance(X, pd.DataFrame)\n",
    "        return X.select_dtypes(include=[self.dtype])\n",
    "\n",
    "transformer = Pipeline([\n",
    "    ('features', FeatureUnion(n_jobs=1, transformer_list=[        \n",
    "        ('numericals', Pipeline([\n",
    "            ('selector', TypeSelector(np.number))\n",
    "        ])),  \n",
    "        # Categorical features\n",
    "        ('categoricals', Pipeline([\n",
    "            ('selector', TypeSelector('category')),\n",
    "            ('encoder', OneHotEncoder(handle_unknown='ignore'))\n",
    "        ]))  \n",
    "    ])), \n",
    "    ('clf', xgb.XGBRegressor(objective=\"reg:linear\", booster=\"gbtree\", nthread=3))\n",
    "])  \n",
    "\n"
   ],
   "metadata": {
    "collapsed": false,
    "pycharm": {
     "name": "#%%\n",
     "is_executing": false
    }
   }
  },
  {
   "cell_type": "markdown",
   "source": [
    " ### Hyperparemeter tuning"
   ],
   "metadata": {
    "collapsed": false,
    "pycharm": {
     "name": "#%% md\n"
    }
   }
  },
  {
   "cell_type": "code",
   "execution_count": 9,
   "outputs": [
    {
     "name": "stdout",
     "text": [
      "Fitting 3 folds for each of 2 candidates, totalling 6 fits\n",
      "[18:28:30] WARNING: /home/conda/feedstock_root/build_artifacts/xgboost_1584539733809/work/src/objective/regression_obj.cu:167: reg:linear is now deprecated in favor of reg:squarederror.\n",
      "[18:30:08] WARNING: /home/conda/feedstock_root/build_artifacts/xgboost_1584539733809/work/src/objective/regression_obj.cu:167: reg:linear is now deprecated in favor of reg:squarederror.\n",
      "[18:31:47] WARNING: /home/conda/feedstock_root/build_artifacts/xgboost_1584539733809/work/src/objective/regression_obj.cu:167: reg:linear is now deprecated in favor of reg:squarederror.\n",
      "[18:33:33] WARNING: /home/conda/feedstock_root/build_artifacts/xgboost_1584539733809/work/src/objective/regression_obj.cu:167: reg:linear is now deprecated in favor of reg:squarederror.\n",
      "[18:35:43] WARNING: /home/conda/feedstock_root/build_artifacts/xgboost_1584539733809/work/src/objective/regression_obj.cu:167: reg:linear is now deprecated in favor of reg:squarederror.\n",
      "[18:37:56] WARNING: /home/conda/feedstock_root/build_artifacts/xgboost_1584539733809/work/src/objective/regression_obj.cu:167: reg:linear is now deprecated in favor of reg:squarederror.\n",
      "[18:40:04] WARNING: /home/conda/feedstock_root/build_artifacts/xgboost_1584539733809/work/src/objective/regression_obj.cu:167: reg:linear is now deprecated in favor of reg:squarederror.\n"
     ],
     "output_type": "stream"
    },
    {
     "name": "stderr",
     "text": [
      "[Parallel(n_jobs=1)]: Using backend SequentialBackend with 1 concurrent workers.\n",
      "[Parallel(n_jobs=1)]: Done   6 out of   6 | elapsed: 11.5min finished\n"
     ],
     "output_type": "stream"
    },
    {
     "data": {
      "text/plain": "RandomizedSearchCV(cv=3, error_score=nan,\n                   estimator=Pipeline(memory=None,\n                                      steps=[('features',\n                                              FeatureUnion(n_jobs=1,\n                                                           transformer_list=[('numericals',\n                                                                              Pipeline(memory=None,\n                                                                                       steps=[('selector',\n                                                                                               TypeSelector(dtype=<class 'numpy.number'>))],\n                                                                                       verbose=False)),\n                                                                             ('categoricals',\n                                                                              Pipeline(memory=None,\n                                                                                       steps=[('selector',\n                                                                                               TypeSelector(dtype='category')),\n                                                                                              ('encoder',\n                                                                                               OneHotE...\n                                                           reg_lambda=None,\n                                                           scale_pos_weight=None,\n                                                           subsample=None,\n                                                           tree_method=None,\n                                                           validate_parameters=False,\n                                                           verbosity=None))],\n                                      verbose=False),\n                   iid='deprecated', n_iter=2, n_jobs=None,\n                   param_distributions={'clf__max_depth': array([3, 4, 5, 6, 7, 8, 9])},\n                   pre_dispatch='2*n_jobs', random_state=None, refit=True,\n                   return_train_score=False, scoring='neg_mean_squared_error',\n                   verbose=1)"
     },
     "metadata": {},
     "output_type": "execute_result",
     "execution_count": 9
    }
   ],
   "source": [
    "from sklearn.model_selection import RandomizedSearchCV\n",
    "param_grid = {\n",
    "    'clf__max_depth': np.arange(3, 10, 1)\n",
    "}\n",
    "\n",
    "randomized_mse = RandomizedSearchCV(param_distributions=param_grid, estimator=transformer, n_iter=2, \n",
    "                                    scoring=\"neg_mean_squared_error\", verbose=1, cv=3)\n",
    "\n",
    "x, y = train_features.drop('sales', axis=1), train_features['sales']\n",
    "randomized_mse.fit(x, y)"
   ],
   "metadata": {
    "collapsed": false,
    "pycharm": {
     "name": "#%%\n",
     "is_executing": false
    }
   }
  },
  {
   "cell_type": "code",
   "execution_count": 10,
   "outputs": [
    {
     "name": "stdout",
     "text": [
      "-4.02988627543959\nPipeline(memory=None,\n         steps=[('features',\n                 FeatureUnion(n_jobs=1,\n                              transformer_list=[('numericals',\n                                                 Pipeline(memory=None,\n                                                          steps=[('selector',\n                                                                  TypeSelector(dtype=<class 'numpy.number'>))],\n                                                          verbose=False)),\n                                                ('categoricals',\n                                                 Pipeline(memory=None,\n                                                          steps=[('selector',\n                                                                  TypeSelector(dtype='category')),\n                                                                 ('encoder',\n                                                                  OneHotEncoder(categories='auto',\n                                                                                drop=None,\n                                                                                dtype=<class 'nu...\n                              interaction_constraints=None,\n                              learning_rate=0.300000012, max_delta_step=0,\n                              max_depth=3, min_child_weight=1, missing=nan,\n                              monotone_constraints=None, n_estimators=100,\n                              n_jobs=3, nthread=3, num_parallel_tree=1,\n                              objective='reg:linear', random_state=0,\n                              reg_alpha=0, reg_lambda=1, scale_pos_weight=1,\n                              subsample=1, tree_method=None,\n                              validate_parameters=False, verbosity=None))],\n         verbose=False)\n"
     ],
     "output_type": "stream"
    }
   ],
   "source": [
    "print(randomized_mse.best_score_)\n",
    "print(randomized_mse.best_estimator_)"
   ],
   "metadata": {
    "collapsed": false,
    "pycharm": {
     "name": "#%%\n",
     "is_executing": false
    }
   }
  },
  {
   "cell_type": "code",
   "execution_count": 12,
   "outputs": [
    {
     "data": {
      "text/plain": "5.234818480361037"
     },
     "metadata": {},
     "output_type": "execute_result",
     "execution_count": 12
    }
   ],
   "source": [
    "from sklearn.metrics import mean_squared_error\n",
    "\n",
    "x_test, y_test = test_values.drop('sales', axis=1), test_values['sales']\n",
    "preds_test = randomized_mse.best_estimator_.predict(x_test)\n",
    "mean_squared_error(y_test.values, preds_test)"
   ],
   "metadata": {
    "collapsed": false,
    "pycharm": {
     "name": "#%%\n",
     "is_executing": false
    }
   }
  },
  {
   "cell_type": "code",
   "execution_count": 19,
   "outputs": [
    {
     "data": {
      "text/plain": "         sales  predicted_sales  residual\n129          1         2.634530  1.634530\n132          1         2.060550  1.060550\n133          3         2.210149 -0.789851\n725          1         1.787987  0.787987\n727          2         0.791457 -1.208543\n...        ...              ...       ...\n3394524      1         1.104982  0.104982\n3394525      2         2.170871  0.170871\n3395445      3         1.557298 -1.442702\n3395446      1         1.387907  0.387907\n3395448      2         1.387907 -0.612093\n\n[15923 rows x 3 columns]",
      "text/html": "<div>\n<style scoped>\n    .dataframe tbody tr th:only-of-type {\n        vertical-align: middle;\n    }\n\n    .dataframe tbody tr th {\n        vertical-align: top;\n    }\n\n    .dataframe thead th {\n        text-align: right;\n    }\n</style>\n<table border=\"1\" class=\"dataframe\">\n  <thead>\n    <tr style=\"text-align: right;\">\n      <th></th>\n      <th>sales</th>\n      <th>predicted_sales</th>\n      <th>residual</th>\n    </tr>\n  </thead>\n  <tbody>\n    <tr>\n      <th>129</th>\n      <td>1</td>\n      <td>2.634530</td>\n      <td>1.634530</td>\n    </tr>\n    <tr>\n      <th>132</th>\n      <td>1</td>\n      <td>2.060550</td>\n      <td>1.060550</td>\n    </tr>\n    <tr>\n      <th>133</th>\n      <td>3</td>\n      <td>2.210149</td>\n      <td>-0.789851</td>\n    </tr>\n    <tr>\n      <th>725</th>\n      <td>1</td>\n      <td>1.787987</td>\n      <td>0.787987</td>\n    </tr>\n    <tr>\n      <th>727</th>\n      <td>2</td>\n      <td>0.791457</td>\n      <td>-1.208543</td>\n    </tr>\n    <tr>\n      <th>...</th>\n      <td>...</td>\n      <td>...</td>\n      <td>...</td>\n    </tr>\n    <tr>\n      <th>3394524</th>\n      <td>1</td>\n      <td>1.104982</td>\n      <td>0.104982</td>\n    </tr>\n    <tr>\n      <th>3394525</th>\n      <td>2</td>\n      <td>2.170871</td>\n      <td>0.170871</td>\n    </tr>\n    <tr>\n      <th>3395445</th>\n      <td>3</td>\n      <td>1.557298</td>\n      <td>-1.442702</td>\n    </tr>\n    <tr>\n      <th>3395446</th>\n      <td>1</td>\n      <td>1.387907</td>\n      <td>0.387907</td>\n    </tr>\n    <tr>\n      <th>3395448</th>\n      <td>2</td>\n      <td>1.387907</td>\n      <td>-0.612093</td>\n    </tr>\n  </tbody>\n</table>\n<p>15923 rows × 3 columns</p>\n</div>"
     },
     "metadata": {},
     "output_type": "execute_result",
     "execution_count": 19
    }
   ],
   "source": [
    "df_test = x_test.copy()\n",
    "df_test.loc[:, 'predicted_sales'] = preds_test\n",
    "df_test.loc[:, 'sales'] = y_test\n",
    "df_test.loc[:, 'residual'] = df_test.loc[:, 'predicted_sales'] - df_test.loc[:, 'sales'] \n",
    "df_test[(df_test['sales'] != 0)&(df_test['date_number'] == 86)][['sales','predicted_sales', 'residual']]"
   ],
   "metadata": {
    "collapsed": false,
    "pycharm": {
     "name": "#%%\n",
     "is_executing": false
    }
   }
  },
  {
   "cell_type": "code",
   "execution_count": null,
   "outputs": [],
   "source": [
    "\n"
   ],
   "metadata": {
    "collapsed": false,
    "pycharm": {
     "name": "#%%\n"
    }
   }
  }
 ],
 "metadata": {
  "kernelspec": {
   "name": "python3",
   "language": "python",
   "display_name": "Python 3"
  },
  "language_info": {
   "codemirror_mode": {
    "name": "ipython",
    "version": 2
   },
   "file_extension": ".py",
   "mimetype": "text/x-python",
   "name": "python",
   "nbconvert_exporter": "python",
   "pygments_lexer": "ipython2",
   "version": "2.7.6"
  },
  "pycharm": {
   "stem_cell": {
    "cell_type": "raw",
    "source": [],
    "metadata": {
     "collapsed": false
    }
   }
  }
 },
 "nbformat": 4,
 "nbformat_minor": 0
}